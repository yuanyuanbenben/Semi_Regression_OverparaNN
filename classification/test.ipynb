{
 "cells": [
  {
   "cell_type": "code",
   "execution_count": null,
   "metadata": {
    "vscode": {
     "languageId": "plaintext"
    }
   },
   "outputs": [],
   "source": [
    "# our method\n",
    "\n",
    "import numpy as np\n",
    "import torch\n",
    "mode = 0\n",
    "sigma = 0.5\n",
    "n = 500\n",
    "m = 1000\n",
    "para_value = np.ndarray((200,2))\n",
    "nonpara_value = np.ndarray((200))\n",
    "size_0 = 0\n",
    "size_1 = 0\n",
    "size_2 = 0\n",
    "size_0_val = 0\n",
    "size_1_val = 0\n",
    "size_2_val = 0\n",
    "for seed in range(200):\n",
    "    validation_loss_before = np.inf\n",
    "    for lamda in [1]:\n",
    "        _checkpoint = torch.load(\"./checkpoint/partial_linear_main_%d_%.3f_%.3f_%d_%d_%d.pth\"%(n,lamda,sigma,m,mode,seed))\n",
    "        if _checkpoint['validation_loss'] < validation_loss_before:\n",
    "            checkpoint = _checkpoint\n",
    "            validation_loss_before = checkpoint['validation_loss']\n",
    "            _lamda = lamda\n",
    "    # print(_lamda)\n",
    "    para_value[seed,:] = torch.Tensor.cpu(checkpoint['beta'].data).numpy().reshape(-1)\n",
    "    nonpara_value[seed] = checkpoint['test_f_loss']\n",
    "    size_0 += checkpoint['size_0']\n",
    "    size_1 += checkpoint['size_1']\n",
    "    size_2 += checkpoint['size_2']\n",
    "    size_0_val += checkpoint['size_0_val']\n",
    "    size_1_val += checkpoint['size_1_val']\n",
    "    size_2_val += checkpoint['size_2_val']\n",
    "bar_beta_ = np.mean(para_value,axis=0)\n",
    "bias = bar_beta_ - [1,0.75]\n",
    "print('bias:%.6f'%(np.sqrt(np.sum(np.square(bias)))))\n",
    "std_beta = np.sum(np.mean(np.square(para_value - bar_beta_),axis=0))**0.5\n",
    "print('std:%.6f'%(std_beta))\n",
    "print('mse:%.6f'%(np.sqrt(np.sum(np.square(bias)))**2 + std_beta**2))\n",
    "mse_f = np.mean(nonpara_value,axis = 0)\n",
    "print('mse:%.6f'%(mse_f))\n",
    "print(size_0/200)\n",
    "print(size_1/200)\n",
    "print(size_2/200)\n",
    "print(size_0_val/200)\n",
    "print(size_1_val/200)\n",
    "print(size_2_val/200)"
   ]
  },
  {
   "cell_type": "code",
   "execution_count": null,
   "metadata": {
    "vscode": {
     "languageId": "plaintext"
    }
   },
   "outputs": [],
   "source": [
    "# baseline\n",
    "# under para\n",
    "\n",
    "import numpy as np\n",
    "import torch\n",
    "mode = 9\n",
    "sigma = 0.5\n",
    "n = 2000\n",
    "m = 8\n",
    "para_value = np.ndarray((200,2))\n",
    "nonpara_value = np.ndarray((200))\n",
    "for seed in range(200):\n",
    "    checkpoint = torch.load(\"./checkpoint/partial_linear_nn_%d_%.3f_%d_%d_%d.pth\"%(n,sigma,m,mode,seed))\n",
    "    para_value[seed,:] = torch.Tensor.cpu(checkpoint['beta'].data).numpy().reshape(-1)\n",
    "    nonpara_value[seed] = checkpoint['test_f_loss']\n",
    "bar_beta_ = np.mean(para_value,axis=0)\n",
    "bias = bar_beta_ - [1,0.75]\n",
    "print('bias:%.6f'%(np.sqrt(np.sum(np.square(bias)))))\n",
    "std_beta = np.sum(np.mean(np.square(para_value - bar_beta_),axis=0))**0.5\n",
    "print('std:%.6f'%(std_beta))\n",
    "print('mse:%.6f'%(np.sqrt(np.sum(np.square(bias)))**2 + std_beta**2))\n",
    "mse_f = np.mean(nonpara_value,axis = 0)\n",
    "print('mse:%.6f'%(mse_f))"
   ]
  },
  {
   "cell_type": "code",
   "execution_count": null,
   "metadata": {
    "vscode": {
     "languageId": "plaintext"
    }
   },
   "outputs": [],
   "source": [
    "# baseline 2\n",
    "# kernel\n",
    "\n",
    "import numpy as np\n",
    "\n",
    "mode = 9\n",
    "sigma = 0.5\n",
    "n= 500\n",
    "para_value = np.ndarray((200,2))\n",
    "nonpara_value = np.ndarray((200))\n",
    "for seed in range(200):\n",
    "    checkpoint = np.load(\"./output/partial_linear_rkhs_%d_%.3f_%d_%d.npz\"%(n,sigma,mode,seed))\n",
    "    para_value[seed,:] = checkpoint['beta']\n",
    "    nonpara_value[seed] = checkpoint['non_loss']\n",
    "bar_beta_ = np.mean(para_value,axis=0)\n",
    "bias = bar_beta_ - [1,0.75]\n",
    "print('bias:%.6f'%(np.sqrt(np.sum(np.square(bias)))))\n",
    "std_beta = np.sum(np.mean(np.square(para_value - bar_beta_),axis=0))**0.5\n",
    "print('std:%.6f'%(std_beta))\n",
    "print('mse:%.6f'%(np.sqrt(np.sum(np.square(bias)))**2 + std_beta**2))\n",
    "mse_f = np.mean(nonpara_value,axis = 0)\n",
    "print('mse:%.6f'%(mse_f))"
   ]
  },
  {
   "cell_type": "code",
   "execution_count": null,
   "metadata": {
    "vscode": {
     "languageId": "plaintext"
    }
   },
   "outputs": [],
   "source": []
  }
 ],
 "metadata": {
  "language_info": {
   "name": "python"
  }
 },
 "nbformat": 4,
 "nbformat_minor": 2
}
